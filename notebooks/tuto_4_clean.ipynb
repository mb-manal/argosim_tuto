{
 "cells": [
  {
   "cell_type": "markdown",
   "metadata": {},
   "source": [
    "# Argosim tutorial - Part 4\n",
    "\n",
    "In this tutorial we will explore the `clean` module. This module implements the Hogbom Clean algorithm."
   ]
  },
  {
   "cell_type": "code",
   "execution_count": null,
   "metadata": {},
   "outputs": [],
   "source": [
    "from argosim.antenna_utils import *\n",
    "from argosim.imaging_utils import *\n",
    "from argosim.metrics_utils import *\n",
    "from argosim.plot_utils import *\n",
    "from argosim.data_utils import *\n",
    "\n",
    "import numpy as np\n",
    "import matplotlib.pyplot as plt"
   ]
  },
  {
   "cell_type": "markdown",
   "metadata": {},
   "source": [
    "Take a look at the loaded modules and check the functions available in the modules we haven't explored yet."
   ]
  },
  {
   "cell_type": "code",
   "execution_count": null,
   "metadata": {},
   "outputs": [],
   "source": [
    "# Create an antenna array with 5 antennas randomly distributed in a 1x2 km area.\n",
    "\n",
    "\n",
    "# Compute the baselines and the uv-tracks.\n",
    "baselines = \n",
    "\n",
    "# Plot the baselines.\n",
    "\n"
   ]
  },
  {
   "cell_type": "code",
   "execution_count": null,
   "metadata": {},
   "outputs": [],
   "source": [
    "# Compute the uv-sampling tracks for the following parameters:\n",
    "# Latitude = 20 degrees\n",
    "# Declination = 45 degrees\n",
    "# Track time = 3 hours\n",
    "# Start time = -1 hours\n",
    "# Number of time samples = 10\n",
    "# Frequency = 1.5 GHz\n",
    "# Bandwidth = 1 GHz\n",
    "# Number of frequency channels = 5\n",
    "\n",
    "uv_track, _ = uv_track_multiband(...)\n",
    "\n",
    "# Plot the baselines and the uv-tracks using the plot_utlis module.\n",
    "\n"
   ]
  },
  {
   "cell_type": "markdown",
   "metadata": {},
   "source": [
    "### Simulate the sky model\n",
    "We will start by simulating a sky model. We will use the `data_utils` module from argosim. \n",
    "\n",
    "Check the function `n_source_sky` from the `data_utils` module. "
   ]
  },
  {
   "cell_type": "code",
   "execution_count": null,
   "metadata": {},
   "outputs": [],
   "source": [
    "# Create the sky model using argosim.data_utils.n_source_sky()\n",
    "im_size = (256,256)\n",
    "fov = .5 # degrees\n",
    "fov_size = (fov, fov)\n",
    "sky_model = n_source_sky(im_size, fov, [0.01, 0.005], [1., 1.])\n",
    "\n",
    "# Plot the sky model\n",
    "plot_sky(sky_model)\n"
   ]
  },
  {
   "cell_type": "code",
   "execution_count": null,
   "metadata": {},
   "outputs": [],
   "source": [
    "# Get the dirty image \n",
    "obs, dirty_beam = simulate_dirty_observation(sky_model, uv_track, fov, sigma=0.02)\n",
    "\n",
    "# Plot the dirty image and the beam"
   ]
  },
  {
   "cell_type": "markdown",
   "metadata": {},
   "source": [
    "### Cleaning the observation\n",
    "\n",
    "We will use the `clean` module to clean the observation. Check the function `hogbom_clean` from the `clean` module."
   ]
  },
  {
   "cell_type": "code",
   "execution_count": null,
   "metadata": {},
   "outputs": [],
   "source": [
    "from argosim.clean import *"
   ]
  },
  {
   "cell_type": "code",
   "execution_count": null,
   "metadata": {},
   "outputs": [],
   "source": [
    "I_clean, sky_model = clean_hogbom(obs, dirty_beam, gamma=0.2, max_iter=100, threshold=1e-3 , clean_beam_size_px=3, res=False)\n",
    "\n",
    "# Plot the clean image\n",
    "plot_sky(I_clean, fov_size)"
   ]
  },
  {
   "cell_type": "markdown",
   "metadata": {},
   "source": [
    "### Metrics\n",
    "\n",
    "We will use the `metrics` module to evaluate the cleaning. Check the function `compute_metrics` from the `metrics` module."
   ]
  },
  {
   "cell_type": "code",
   "execution_count": null,
   "metadata": {},
   "outputs": [],
   "source": [
    "from argosim.metrics_utils import *"
   ]
  },
  {
   "cell_type": "code",
   "execution_count": null,
   "metadata": {},
   "outputs": [],
   "source": [
    "# compute the metrics\n",
    "\n",
    "\n",
    "# Plot the residual and check the mse\n",
    "\n",
    "\n",
    "# Verify that the mse is the mean of the squared residuals\n"
   ]
  }
 ],
 "metadata": {
  "kernelspec": {
   "display_name": "argos",
   "language": "python",
   "name": "python3"
  },
  "language_info": {
   "codemirror_mode": {
    "name": "ipython",
    "version": 3
   },
   "file_extension": ".py",
   "mimetype": "text/x-python",
   "name": "python",
   "nbconvert_exporter": "python",
   "pygments_lexer": "ipython3",
   "version": "3.12.0"
  }
 },
 "nbformat": 4,
 "nbformat_minor": 2
}
