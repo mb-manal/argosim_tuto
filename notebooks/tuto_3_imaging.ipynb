{
 "cells": [
  {
   "cell_type": "markdown",
   "metadata": {},
   "source": [
    "# Argosim tutorial - Part 3\n",
    "\n",
    "In this tutorial we will explore the `imaging_utils` module. This module provides functions to simulate radio images."
   ]
  },
  {
   "cell_type": "code",
   "execution_count": 1,
   "metadata": {},
   "outputs": [],
   "source": [
    "# Import the imaging module\n",
    "from argosim.imaging_utils import *"
   ]
  },
  {
   "cell_type": "markdown",
   "metadata": {},
   "source": [
    "## Sky and UV spaces\n"
   ]
  },
  {
   "cell_type": "markdown",
   "metadata": {},
   "source": [
    "What is the link between the sky space and the uv space?\n",
    "\n",
    "...\n",
    "\n",
    "Which functions of the `imaging_utils` module are used to convert between the sky and uv spaces? How do the work internally?\n",
    "\n",
    "..."
   ]
  },
  {
   "cell_type": "markdown",
   "metadata": {},
   "source": [
    "### Loading a sky image\n",
    "We will use `PIL.Image` to load the `png` images and `numpy` to convert the image to a numpy array. \n",
    "\n",
    "P.S. The `PIL` library is not installed in the Argosim environment. You can install it by running the following command:\n",
    "```bash\n",
    "!pip install pillow\n",
    "```"
   ]
  },
  {
   "cell_type": "code",
   "execution_count": 5,
   "metadata": {},
   "outputs": [],
   "source": [
    "# Import libraries\n",
    "import numpy as np\n",
    "import matplotlib.pyplot as plt\n",
    "from PIL import Image"
   ]
  },
  {
   "cell_type": "code",
   "execution_count": 19,
   "metadata": {},
   "outputs": [
    {
     "name": "stdout",
     "output_type": "stream",
     "text": [
      "(541, 541, 2)\n"
     ]
    }
   ],
   "source": [
    "# Load the Cygnus A image\n",
    "sky_model_path = '../data/sky_models/cygnus_a.png'\n",
    "sky_png = Image.open(sky_model_path)\n",
    "\n",
    "# Convert the image to a numpy array\n",
    "sky = np.array(sky_png)\n",
    "\n",
    "# Check the array shape\n",
    "print(sky.shape)"
   ]
  },
  {
   "cell_type": "markdown",
   "metadata": {},
   "source": [
    "Does it have the shape we expect?\n",
    "\n",
    "...\n",
    "\n",
    "What do you have to say about the size of the image? (Hint: remember what the functions sky2uv and uv2sky do.)\n",
    "\n",
    "..."
   ]
  },
  {
   "cell_type": "code",
   "execution_count": null,
   "metadata": {},
   "outputs": [],
   "source": [
    "# Argosim works with 2D images, with just one channel. Get rid of the unnecessary dimensions.\n",
    "\n",
    "# Plot the image using matplotlib\n"
   ]
  },
  {
   "cell_type": "markdown",
   "metadata": {},
   "source": [
    "### UV space"
   ]
  },
  {
   "cell_type": "code",
   "execution_count": null,
   "metadata": {},
   "outputs": [],
   "source": [
    "# Convert the sky model to uv space and analyze the result\n",
    "..."
   ]
  },
  {
   "cell_type": "markdown",
   "metadata": {},
   "source": [
    "What is the size of the output array? Which type of data does it contain?\n",
    "..."
   ]
  },
  {
   "cell_type": "code",
   "execution_count": null,
   "metadata": {},
   "outputs": [],
   "source": [
    "# Plot the sky model in uv space\n",
    "..."
   ]
  },
  {
   "cell_type": "markdown",
   "metadata": {},
   "source": [
    "### Repeat for the other sky models"
   ]
  },
  {
   "cell_type": "code",
   "execution_count": 20,
   "metadata": {},
   "outputs": [],
   "source": [
    "# Import sky model\n",
    "...\n",
    "# If necessary, convert the sky model to a 2D numpy array\n",
    "...\n",
    "# Plot the sky model\n",
    "...\n",
    "# Convert to uv space\n",
    "...\n",
    "# Plot the sky model in uv space\n",
    "...\n",
    "\n",
    "# repeat the process for the other sky models"
   ]
  },
  {
   "cell_type": "markdown",
   "metadata": {},
   "source": [
    "## Imaging\n"
   ]
  },
  {
   "cell_type": "markdown",
   "metadata": {},
   "source": [
    "Recall the imaging process. What are the steps involved? How do we simulate the observed sky model given the uv coverage (uv sampling points)?\n",
    "\n",
    "..."
   ]
  },
  {
   "cell_type": "code",
   "execution_count": 26,
   "metadata": {},
   "outputs": [],
   "source": [
    "from argosim.antenna_utils import *"
   ]
  },
  {
   "cell_type": "code",
   "execution_count": 40,
   "metadata": {},
   "outputs": [],
   "source": [
    "# Load the data\n",
    "dataset = np.load('../data/sky_models/galsim_sky.npy', allow_pickle=True)[()]\n",
    "\n",
    "# Check the content of the dataset dictionary (dataset.keys())\n"
   ]
  },
  {
   "cell_type": "code",
   "execution_count": null,
   "metadata": {},
   "outputs": [],
   "source": [
    "# Get the sky model image and the asociated field of view size\n",
    "sky = dataset['image']\n",
    "fov_size = np.sqrt(dataset['field_area_arcmin2'])/60.0\n",
    "\n",
    "# Set up the antenna array, compute the baselines and the uv tracks\n",
    "antena = y_antenna_arr(n_antenna=30, r=10e3)\n",
    "baselines = get_baselines(antena)\n",
    "track, _ = uv_track_multiband(baselines)\n",
    "\n",
    "# Perform the observation\n",
    "obs, dirty_beam = simulate_dirty_observation(sky, track, fov_size)"
   ]
  },
  {
   "cell_type": "code",
   "execution_count": null,
   "metadata": {},
   "outputs": [],
   "source": [
    "# Plot the dirty beam\n",
    "\n",
    "# Plot the observation"
   ]
  },
  {
   "cell_type": "markdown",
   "metadata": {},
   "source": [
    "Check the source code of the function `simulate_dirty_observation`. What does it do? And which other functions from the `imaging_utils` module does it use?\n",
    "\n",
    "..."
   ]
  },
  {
   "cell_type": "markdown",
   "metadata": {},
   "source": [
    "In the source code, what does `vis` stand for? Explain...\n",
    "\n",
    "..."
   ]
  },
  {
   "cell_type": "code",
   "execution_count": null,
   "metadata": {},
   "outputs": [],
   "source": []
  }
 ],
 "metadata": {
  "kernelspec": {
   "display_name": "argos",
   "language": "python",
   "name": "python3"
  },
  "language_info": {
   "codemirror_mode": {
    "name": "ipython",
    "version": 3
   },
   "file_extension": ".py",
   "mimetype": "text/x-python",
   "name": "python",
   "nbconvert_exporter": "python",
   "pygments_lexer": "ipython3",
   "version": "3.12.0"
  }
 },
 "nbformat": 4,
 "nbformat_minor": 2
}
